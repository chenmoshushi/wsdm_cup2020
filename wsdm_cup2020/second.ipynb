{
 "cells": [
  {
   "cell_type": "code",
   "execution_count": null,
   "metadata": {
    "collapsed": true
   },
   "outputs": [],
   "source": [
    "import pandas as pd\n",
    "from sklearn.feature_extraction.text import TfidfVectorizer\n",
    "import pickle\n",
    "import numpy as np\n",
    "import pandas as pd\n",
    "import re\n",
    "# from rake_nltk import Rake\n",
    "\n",
    "import numpy as np\n",
    "\n",
    "from sklearn.metrics.pairwise import cosine_similarity\n",
    "\n",
    "from sklearn.feature_extraction.text import CountVectorizer"
   ]
  },
  {
   "cell_type": "code",
   "execution_count": null,
   "metadata": {
    "collapsed": true
   },
   "outputs": [],
   "source": [
    "import gc\n",
    "gc.collect()"
   ]
  },
  {
   "cell_type": "code",
   "execution_count": null,
   "metadata": {
    "collapsed": true
   },
   "outputs": [],
   "source": [
    "def needpara(x):\n",
    "    if '[[**##**]]' not in str(x):\n",
    "        return x\n",
    "    zz=x.split('. ')\n",
    "    if '[[**##**]]' in zz:\n",
    "        index=zz.index('[[**##**]]')\n",
    "        first=max(0,index-2)\n",
    "        return ''.join(zz[first:index+2])\n",
    "    elif ' [[**##**]]' in zz:\n",
    "        index=zz.index(' [[**##**]]')\n",
    "#         if len(zz[index-1])>30:\n",
    "#             return ''.join(zz[index-1])\n",
    "#         else:\n",
    "        first=max(0,index-2)\n",
    "        return ''.join(zz[first:index+2])\n",
    "    elif '[[**##**]] ' in zz:\n",
    "        index=zz.index('[[**##**]] ')\n",
    "#         if len(zz[index-1])>30:\n",
    "#             return ''.join(zz[index-1])\n",
    "#         else:\n",
    "        first=max(0,index-2)\n",
    "        return ''.join(zz[first:index+2])\n",
    "    else:\n",
    "        for t in zz:\n",
    "            if '[[**##**]]' in t:\n",
    "                index=zz.index(t)\n",
    "                first=max(0,index-2)\n",
    "                return ''.join(zz[first:index+2])#''.join(t.split('[[**##**]]'))\n",
    "            \n",
    "            \n",
    "'获取关键句函数'\n",
    "def digest(text):\n",
    "    backup = text[:]\n",
    "    text = text.replace('al.', '').split('. ')\n",
    "    t=''\n",
    "    pre_text=[]\n",
    "    len_text=len(text)-1\n",
    "    add=True\n",
    "    pre=''\n",
    "    while len_text>=0:\n",
    "        index=text[len_text]\n",
    "        index+=pre\n",
    "        if len(index.split(' '))<=3 :\n",
    "            add=False\n",
    "            pre=index+pre\n",
    "        else:\n",
    "            add=True\n",
    "            pre=''\n",
    "        if add:\n",
    "            pre_text.append(index)\n",
    "        len_text-=1\n",
    "    if len(pre_text)==0:\n",
    "        pre_text=text\n",
    "    pre_text.reverse()\n",
    "    for index in pre_text:\n",
    "        if index.find('[**##**]') != -1:\n",
    "            index = re.sub(r'[\\[|,]+\\*\\*\\#\\#\\*\\*[\\]|,]+','',index)\n",
    "            index+='. '\n",
    "            t+=index\n",
    "    return t"
   ]
  },
  {
   "cell_type": "code",
   "execution_count": null,
   "metadata": {
    "collapsed": true
   },
   "outputs": [],
   "source": [
    "def get_label(x):\n",
    "    if len(str(x))<40:\n",
    "        return 1\n",
    "    return 0\n",
    "\n",
    "def get_label_title(x):\n",
    "    if len(str(x))<50:\n",
    "        return 1\n",
    "    return 0"
   ]
  },
  {
   "cell_type": "code",
   "execution_count": null,
   "metadata": {
    "collapsed": true
   },
   "outputs": [],
   "source": [
    "press1 = pd.read_csv('./data/train_pre.csv')#train_release.csv\n",
    "press2 = pd.read_csv('./data/test_pre2.csv')#validation\n",
    "# press3 = pd.read_csv('./data/test_pre.csv')\n",
    "paper = pd.read_csv('./data/candidate_paper_pre.csv')# candidate_paper_for_wsdm2020.csv\n",
    "print(paper.shape)"
   ]
  },
  {
   "cell_type": "code",
   "execution_count": null,
   "metadata": {
    "collapsed": true
   },
   "outputs": [],
   "source": [
    "paper=paper.iloc[0:50000].reset_index(drop=True)\n",
    "paper=paper[paper.year.notnull()].reset_index(drop=True)\n",
    "print(paper.shape)"
   ]
  },
  {
   "cell_type": "code",
   "execution_count": null,
   "metadata": {
    "collapsed": true
   },
   "outputs": [],
   "source": [
    "press  = pd.concat([press1 ,press2]).reset_index(drop=True)\n",
    "# press  = pd.concat([press,press3]).reset_index(drop=True)\n",
    "press['description_text']=press['description_text'].fillna('')\n",
    "press2['description_text']=press2['description_text'].fillna('')\n",
    "paper['title']=paper['title'].fillna('')\n",
    "paper['abstract']=paper['abstract'].fillna('')\n",
    "\n",
    "article = list(press['description_text'])\n",
    "article.extend(list(paper['title']))\n",
    "article.extend(list(paper['abstract']))"
   ]
  },
  {
   "cell_type": "code",
   "execution_count": null,
   "metadata": {
    "collapsed": true
   },
   "outputs": [],
   "source": [
    "vectorizer = TfidfVectorizer(ngram_range=(1, 1), min_df=2, max_df=0.5, sublinear_tf=True,use_idf=True)#\n",
    "vectorizer.fit(article)\n",
    "yy = vectorizer.transform(paper['title'])\n",
    "xx = vectorizer.transform(press2['description_text'])\n",
    "\n",
    "yy1 = vectorizer.transform(paper['abstract'])\n",
    "xx1 = xx"
   ]
  },
  {
   "cell_type": "code",
   "execution_count": null,
   "metadata": {
    "collapsed": true
   },
   "outputs": [],
   "source": [
    "gc.collect()"
   ]
  },
  {
   "cell_type": "code",
   "execution_count": null,
   "metadata": {
    "collapsed": true
   },
   "outputs": [],
   "source": [
    "article = list(press['key_text_pre'].fillna(''))\n",
    "article.extend(list(paper['title_pro'].fillna('')))\n",
    "article.extend(list(paper['abstract_pre'].fillna('')))\n",
    "vectorizer = TfidfVectorizer(ngram_range=(1, 1), min_df=2, max_df=0.5, sublinear_tf=True,use_idf=True)#\n",
    "vectorizer.fit(article)\n",
    "yy2 = vectorizer.transform(paper['title_pro'].fillna(''))\n",
    "xx2 = vectorizer.transform(press2['key_text_pre'].fillna(''))\n",
    "\n",
    "yy3 = vectorizer.transform(paper['abstract_pre'].fillna(''))\n",
    "xx3 = xx2"
   ]
  },
  {
   "cell_type": "code",
   "execution_count": null,
   "metadata": {
    "collapsed": true
   },
   "outputs": [],
   "source": [
    "len(press2)/1000"
   ]
  },
  {
   "cell_type": "code",
   "execution_count": null,
   "metadata": {
    "collapsed": true
   },
   "outputs": [],
   "source": [
    "paper_id=list(paper.paper_id)"
   ]
  },
  {
   "cell_type": "code",
   "execution_count": null,
   "metadata": {
    "collapsed": true
   },
   "outputs": [],
   "source": [
    "result=[]\n",
    "batch=1000\n",
    "from tqdm import tqdm \n",
    "for epoch in tqdm(range(0,34)):\n",
    "    first=np.dot(xx[epoch*batch:batch*(epoch+1)],yy.T)\n",
    "    score=np.array(list(np.array(first.todense())[0:batch]))\n",
    "    del first \n",
    "    gc.collect()\n",
    "    \n",
    "    first=np.dot(xx1[epoch*batch:batch*(epoch+1)],yy1.T)\n",
    "    score1=np.array(list(np.array(first.todense())[0:batch]))\n",
    "    del first \n",
    "    gc.collect()\n",
    "    \n",
    "    first=np.dot(xx2[epoch*batch:batch*(epoch+1)],yy2.T)\n",
    "    score2=np.array(list(np.array(first.todense())[0:batch]))\n",
    "    del first \n",
    "    gc.collect()\n",
    "    \n",
    "    first=np.dot(xx3[epoch*batch:batch*(epoch+1)],yy3.T)\n",
    "    score3=np.array(list(np.array(first.todense())[0:batch]))\n",
    "    del first \n",
    "    gc.collect()\n",
    "    \n",
    "   \n",
    "    all_score=score\n",
    "    for i in range(batch):\n",
    "        all_score[i]=0.65*(1*score[i]+3*score1[i])+0.35*(1*score2[i]+3*score3[i])\n",
    "        zz=list(np.argsort(-np.array(all_score[i]))[0:100])\n",
    "#         for i in range(10):\n",
    "#             zz[i]=paper_id[zz[i]]\n",
    "#         result.append(zz)\n",
    "        for k in range(100):\n",
    "            get_score=np.array(all_score[i])[zz[k]]\n",
    "            zz[k]=paper_id[zz[k]]\n",
    "            result.append([zz[k],get_score])"
   ]
  },
  {
   "cell_type": "code",
   "execution_count": null,
   "metadata": {
    "collapsed": true
   },
   "outputs": [],
   "source": [
    "batch=xx.shape[0]-34000\n",
    "first=np.dot(xx[34000:batch+34000],yy.T)\n",
    "score=np.array(list(np.array(first.todense())[0:batch]))\n",
    "first=np.dot(xx1[34000:batch+34000],yy1.T)\n",
    "score1=np.array(list(np.array(first.todense())[0:batch]))\n",
    "first=np.dot(xx2[34000:34000+batch],yy2.T)\n",
    "score2=np.array(list(np.array(first.todense())[0:batch]))\n",
    "first=np.dot(xx3[34000:34000+batch],yy3.T)\n",
    "score3=np.array(list(np.array(first.todense())[0:batch]))"
   ]
  },
  {
   "cell_type": "code",
   "execution_count": null,
   "metadata": {
    "collapsed": true
   },
   "outputs": [],
   "source": [
    "for i in range(batch):\n",
    "    all_score[i]=0.65*(1*score[i]+3*score1[i])+0.35*(1*score2[i]+3*score3[i])\n",
    "    zz=list(np.argsort(-np.array(all_score[i]))[0:100])\n",
    "#     for i in range(10):\n",
    "#         zz[i]=paper_id[zz[i]]\n",
    "#     result.append(zz)\n",
    "    for k in range(100):\n",
    "        get_score=np.array(all_score[i])[zz[k]]\n",
    "        zz[k]=paper_id[zz[k]]\n",
    "        result.append([zz[k],get_score])"
   ]
  },
  {
   "cell_type": "code",
   "execution_count": null,
   "metadata": {
    "collapsed": true
   },
   "outputs": [],
   "source": [
    "describe_id=list(press2['description_id'])\n",
    "idd=[]\n",
    "for t in describe_id:\n",
    "    idd.extend([t]*100)"
   ]
  },
  {
   "cell_type": "code",
   "execution_count": null,
   "metadata": {
    "collapsed": true
   },
   "outputs": [],
   "source": [
    "feature=pd.DataFrame(result)\n",
    "feature.columns=['paper_id','score']"
   ]
  },
  {
   "cell_type": "code",
   "execution_count": null,
   "metadata": {
    "collapsed": true
   },
   "outputs": [],
   "source": [
    "feature['description_id']=idd"
   ]
  },
  {
   "cell_type": "code",
   "execution_count": null,
   "metadata": {
    "collapsed": true
   },
   "outputs": [],
   "source": [
    "feature=pd.merge(feature,paper,on='paper_id',how='left')"
   ]
  },
  {
   "cell_type": "code",
   "execution_count": null,
   "metadata": {
    "collapsed": true
   },
   "outputs": [],
   "source": [
    "feature=pd.merge(feature,press2[['description_id','description_text','key_text','key_text_pre']],on='description_id',how='left')"
   ]
  },
  {
   "cell_type": "code",
   "execution_count": null,
   "metadata": {
    "collapsed": true
   },
   "outputs": [],
   "source": [
    "data=feature#pd.merge(feature,press2[['description_id','paper_id','label']],on=['description_id','paper_id'],how='left')"
   ]
  },
  {
   "cell_type": "code",
   "execution_count": null,
   "metadata": {
    "collapsed": true
   },
   "outputs": [],
   "source": [
    "data=data.drop_duplicates(subset=['description_id','paper_id'], keep='first', inplace=False)"
   ]
  },
  {
   "cell_type": "code",
   "execution_count": null,
   "metadata": {
    "collapsed": true
   },
   "outputs": [],
   "source": [
    "data=data.reset_index(drop=True)"
   ]
  },
  {
   "cell_type": "code",
   "execution_count": null,
   "metadata": {
    "collapsed": true
   },
   "outputs": [],
   "source": [
    "data=data.sort_values(by='description_id').reset_index(drop=True)"
   ]
  },
  {
   "cell_type": "code",
   "execution_count": null,
   "metadata": {
    "collapsed": true
   },
   "outputs": [],
   "source": [
    "data_p=data[['description_id','paper_id','description_text','key_text_pre','abstract','abstract_pre','title','keywords','title_pro','journal','year']]"
   ]
  },
  {
   "cell_type": "code",
   "execution_count": null,
   "metadata": {
    "collapsed": true
   },
   "outputs": [],
   "source": [
    "data_p['score']=data['score']"
   ]
  },
  {
   "cell_type": "code",
   "execution_count": null,
   "metadata": {
    "collapsed": true
   },
   "outputs": [],
   "source": [
    "data_p.to_csv('train_feature/test2yu_100.csv',index=None)"
   ]
  },
  {
   "cell_type": "code",
   "execution_count": null,
   "metadata": {
    "collapsed": true
   },
   "outputs": [],
   "source": [
    "####################################"
   ]
  }
 ],
 "metadata": {
  "kernelspec": {
   "display_name": "Python 3",
   "language": "python",
   "name": "python3"
  },
  "language_info": {
   "codemirror_mode": {
    "name": "ipython",
    "version": 3
   },
   "file_extension": ".py",
   "mimetype": "text/x-python",
   "name": "python",
   "nbconvert_exporter": "python",
   "pygments_lexer": "ipython3",
   "version": "3.6.5"
  }
 },
 "nbformat": 4,
 "nbformat_minor": 2
}
