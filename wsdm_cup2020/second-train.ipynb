{
 "cells": [
  {
   "cell_type": "code",
   "execution_count": null,
   "metadata": {
    "collapsed": true
   },
   "outputs": [],
   "source": [
    "import pandas as pd\n",
    "from sklearn.feature_extraction.text import TfidfVectorizer\n",
    "import pickle\n",
    "import numpy as np\n",
    "import pandas as pd\n",
    "import re\n",
    "import numpy as np\n",
    "from sklearn.metrics.pairwise import cosine_similarity\n",
    "from sklearn.feature_extraction.text import CountVectorizer"
   ]
  },
  {
   "cell_type": "code",
   "execution_count": null,
   "metadata": {
    "collapsed": true
   },
   "outputs": [],
   "source": [
    "def needpara(x):\n",
    "    if '[[**##**]]' not in str(x):\n",
    "        return x\n",
    "    zz=x.split('. ')\n",
    "    if '[[**##**]]' in zz:\n",
    "        index=zz.index('[[**##**]]')\n",
    "        first=max(0,index-2)\n",
    "        return ''.join(zz[first:index+2])\n",
    "    elif ' [[**##**]]' in zz:\n",
    "        index=zz.index(' [[**##**]]')\n",
    "#         if len(zz[index-1])>30:\n",
    "#             return ''.join(zz[index-1])\n",
    "#         else:\n",
    "        first=max(0,index-2)\n",
    "        return ''.join(zz[first:index+2])\n",
    "    elif '[[**##**]] ' in zz:\n",
    "        index=zz.index('[[**##**]] ')\n",
    "#         if len(zz[index-1])>30:\n",
    "#             return ''.join(zz[index-1])\n",
    "#         else:\n",
    "        first=max(0,index-2)\n",
    "        return ''.join(zz[first:index+2])\n",
    "    else:\n",
    "        for t in zz:\n",
    "            if '[[**##**]]' in t:\n",
    "                index=zz.index(t)\n",
    "                first=max(0,index-2)\n",
    "                return ''.join(zz[first:index+2])#''.join(t.split('[[**##**]]'))\n",
    "            \n",
    "            \n",
    "'获取关键句函数'\n",
    "def digest(text):\n",
    "    backup = text[:]\n",
    "    text = text.replace('al.', '').split('. ')\n",
    "    t=''\n",
    "    pre_text=[]\n",
    "    len_text=len(text)-1\n",
    "    add=True\n",
    "    pre=''\n",
    "    while len_text>=0:\n",
    "        index=text[len_text]\n",
    "        index+=pre\n",
    "        if len(index.split(' '))<=3 :\n",
    "            add=False\n",
    "            pre=index+pre\n",
    "        else:\n",
    "            add=True\n",
    "            pre=''\n",
    "        if add:\n",
    "            pre_text.append(index)\n",
    "        len_text-=1\n",
    "    if len(pre_text)==0:\n",
    "        pre_text=text\n",
    "    pre_text.reverse()\n",
    "    for index in pre_text:\n",
    "        if index.find('[**##**]') != -1:\n",
    "            index = re.sub(r'[\\[|,]+\\*\\*\\#\\#\\*\\*[\\]|,]+','',index)\n",
    "            index+='. '\n",
    "            t+=index\n",
    "    return t"
   ]
  },
  {
   "cell_type": "code",
   "execution_count": null,
   "metadata": {
    "collapsed": true
   },
   "outputs": [],
   "source": [
    "def get_label(x):\n",
    "    if len(str(x))<11:\n",
    "        return 1\n",
    "    return 0\n",
    "\n",
    "def get_label_title(x):\n",
    "    if len(str(x))<50:\n",
    "        return 1\n",
    "    return 0"
   ]
  },
  {
   "cell_type": "code",
   "execution_count": null,
   "metadata": {
    "collapsed": true
   },
   "outputs": [],
   "source": [
    "press2 = pd.read_csv('./data/train_pre.csv')#train_release.csv\n",
    "press2=press2[~press2['description_id'].isnull()]\n",
    "press1 = pd.read_csv('./data/test_pre2.csv')#validation\n",
    "paper = pd.read_csv('./data/candidate_paper_pre.csv')# candidate_paper_for_wsdm2020.csv"
   ]
  },
  {
   "cell_type": "code",
   "execution_count": null,
   "metadata": {
    "collapsed": true
   },
   "outputs": [],
   "source": [
    "paper['all_info']=paper['title']+paper['abstract']\n",
    "paper['all_info_pre']=paper['title_pro']+paper['abstract_pre']"
   ]
  },
  {
   "cell_type": "code",
   "execution_count": null,
   "metadata": {
    "collapsed": true
   },
   "outputs": [],
   "source": [
    "print('press2 shape',press2.shape)\n",
    "press2=pd.merge(press2,paper,on='paper_id',how='left')\n",
    "print('press2 shape',press2.shape)\n",
    "press2=press2.drop_duplicates(['description_text']).reset_index(drop=True)\n",
    "print('press2 shape',press2.shape)\n",
    "# press2=press2[press2.year.notnull()].reset_index(drop=True)"
   ]
  },
  {
   "cell_type": "code",
   "execution_count": null,
   "metadata": {
    "collapsed": true
   },
   "outputs": [],
   "source": [
    "paper=paper[paper.journal=='no-content'].reset_index(drop=True)\n",
    "print(paper.shape)"
   ]
  },
  {
   "cell_type": "code",
   "execution_count": null,
   "metadata": {
    "collapsed": true
   },
   "outputs": [],
   "source": [
    "press  = pd.concat([press1 ,press2]).reset_index(drop=True)\n",
    "press['description_text']=press['description_text'].fillna('')\n",
    "press2['description_text']=press2['description_text'].fillna('')\n",
    "paper['title']=paper['title'].fillna('')\n",
    "paper['abstract']=paper['abstract'].fillna('')\n",
    "\n",
    "article = list(press['description_text'])\n",
    "article.extend(list(paper['title']))\n",
    "article.extend(list(paper['abstract']))"
   ]
  },
  {
   "cell_type": "code",
   "execution_count": null,
   "metadata": {
    "collapsed": true
   },
   "outputs": [],
   "source": [
    "vectorizer = TfidfVectorizer(ngram_range=(1, 1), min_df=2, max_df=0.5, sublinear_tf=True,stop_words='english')#\n",
    "vectorizer.fit(article)\n",
    "yy = vectorizer.transform(paper['title'])\n",
    "xx = vectorizer.transform(press2['description_text'])\n",
    "\n",
    "yy1 = vectorizer.transform(paper['abstract'])\n",
    "xx1 = xx"
   ]
  },
  {
   "cell_type": "code",
   "execution_count": null,
   "metadata": {
    "collapsed": true
   },
   "outputs": [],
   "source": [
    "# del score\n",
    "import gc\n",
    "gc.collect()"
   ]
  },
  {
   "cell_type": "code",
   "execution_count": null,
   "metadata": {
    "collapsed": true
   },
   "outputs": [],
   "source": [
    "article = list(press['key_text_pre'].fillna(''))\n",
    "article.extend(list(paper['title_pro'].fillna('')))\n",
    "article.extend(list(paper['abstract_pre'].fillna('')))\n",
    "\n",
    "vectorizer = TfidfVectorizer(ngram_range=(1, 1), min_df=2, max_df=0.5, sublinear_tf=True,stop_words='english')#\n",
    "vectorizer.fit(article)\n",
    "yy2 = vectorizer.transform(paper['title_pro'].fillna(''))\n",
    "xx2 = vectorizer.transform(press2['key_text_pre'].fillna(''))\n",
    "\n",
    "yy3 = vectorizer.transform(paper['abstract_pre'].fillna(''))\n",
    "xx3 = xx2"
   ]
  },
  {
   "cell_type": "code",
   "execution_count": null,
   "metadata": {
    "collapsed": true
   },
   "outputs": [],
   "source": [
    "paper_id=list(paper.paper_id)"
   ]
  },
  {
   "cell_type": "code",
   "execution_count": null,
   "metadata": {
    "collapsed": true
   },
   "outputs": [],
   "source": [
    "max_epoch=len(press2)//1000"
   ]
  },
  {
   "cell_type": "code",
   "execution_count": null,
   "metadata": {
    "collapsed": true,
    "scrolled": true
   },
   "outputs": [],
   "source": [
    "result=[]\n",
    "batch=1000\n",
    "from tqdm import tqdm \n",
    "for epoch in tqdm(range(0,max_epoch)):\n",
    "    first=np.dot(xx[epoch*batch:batch*(epoch+1)],yy.T)\n",
    "    score=np.array(list(np.array(first.todense())[0:batch]))\n",
    "    del first \n",
    "    gc.collect()\n",
    "    \n",
    "    first=np.dot(xx1[epoch*batch:batch*(epoch+1)],yy1.T)\n",
    "    score1=np.array(list(np.array(first.todense())[0:batch]))\n",
    "    del first \n",
    "    gc.collect()\n",
    "    \n",
    "    first=np.dot(xx2[epoch*batch:batch*(epoch+1)],yy2.T)\n",
    "    score2=np.array(list(np.array(first.todense())[0:batch]))\n",
    "    del first \n",
    "    gc.collect()\n",
    "    \n",
    "    first=np.dot(xx3[epoch*batch:batch*(epoch+1)],yy3.T)\n",
    "    score3=np.array(list(np.array(first.todense())[0:batch]))\n",
    "    del first \n",
    "    gc.collect()\n",
    "   \n",
    "   \n",
    "    all_score=score\n",
    "    for i in range(batch):\n",
    "        all_score[i]=0.65*(1*score[i]+3*score1[i])+0.35*(1*score2[i]+3*score3[i])\n",
    "        zz=list(np.argsort(-np.array(all_score[i]))[0:100])\n",
    "#         for k in range(100):\n",
    "#             zz[k]=paper_id[zz[k]]\n",
    "#         result.append(zz)\n",
    "        for k in range(100):\n",
    "            get_score=np.array(all_score[i])[zz[k]]\n",
    "            zz[k]=paper_id[zz[k]]\n",
    "            result.append([zz[k],get_score])"
   ]
  },
  {
   "cell_type": "code",
   "execution_count": null,
   "metadata": {
    "collapsed": true
   },
   "outputs": [],
   "source": [
    "there1=max_epoch*1000\n",
    "batch=xx.shape[0]-there1\n",
    "first=np.dot(xx[there1:batch+there1],yy.T)\n",
    "score=np.array(list(np.array(first.todense())[0:batch]))\n",
    "first=np.dot(xx1[there1:batch+there1],yy1.T)\n",
    "score1=np.array(list(np.array(first.todense())[0:batch]))\n",
    "first=np.dot(xx2[there1:there1+batch],yy2.T)\n",
    "score2=np.array(list(np.array(first.todense())[0:batch]))\n",
    "first=np.dot(xx3[there1:there1+batch],yy3.T)\n",
    "score3=np.array(list(np.array(first.todense())[0:batch]))\n"
   ]
  },
  {
   "cell_type": "code",
   "execution_count": null,
   "metadata": {
    "collapsed": true
   },
   "outputs": [],
   "source": [
    "all_score=score\n",
    "for i in range(batch):\n",
    "    all_score[i]=0.65*(1*score[i]+3*score1[i])+0.35*(1*score2[i]+3*score3[i])\n",
    "    zz=list(np.argsort(-np.array(all_score[i]))[0:100])\n",
    "#     for k in range(100):\n",
    "#         zz[k]=paper_id[zz[k]]\n",
    "#     result.append(zz)\n",
    "\n",
    "    for k in range(100):\n",
    "        get_score=np.array(all_score[i])[zz[k]]\n",
    "        zz[k]=paper_id[zz[k]]\n",
    "        result.append([zz[k],get_score])"
   ]
  },
  {
   "cell_type": "code",
   "execution_count": null,
   "metadata": {
    "collapsed": true
   },
   "outputs": [],
   "source": [
    "len(result)"
   ]
  },
  {
   "cell_type": "code",
   "execution_count": null,
   "metadata": {
    "collapsed": true
   },
   "outputs": [],
   "source": [
    "describe_id=list(press2['description_id'])\n",
    "idd=[]\n",
    "for t in describe_id:\n",
    "    idd.extend([t]*100)"
   ]
  },
  {
   "cell_type": "code",
   "execution_count": null,
   "metadata": {
    "collapsed": true
   },
   "outputs": [],
   "source": [
    "len(idd)"
   ]
  },
  {
   "cell_type": "code",
   "execution_count": null,
   "metadata": {
    "collapsed": true
   },
   "outputs": [],
   "source": [
    "feature=pd.DataFrame(result)\n",
    "feature.columns=['paper_id','score']"
   ]
  },
  {
   "cell_type": "code",
   "execution_count": null,
   "metadata": {
    "collapsed": true
   },
   "outputs": [],
   "source": [
    "feature['description_id']=idd"
   ]
  },
  {
   "cell_type": "code",
   "execution_count": null,
   "metadata": {
    "collapsed": true
   },
   "outputs": [],
   "source": [
    "press2['label']=1"
   ]
  },
  {
   "cell_type": "code",
   "execution_count": null,
   "metadata": {
    "collapsed": true
   },
   "outputs": [],
   "source": [
    "feature=pd.merge(feature,paper,on='paper_id',how='left')"
   ]
  },
  {
   "cell_type": "code",
   "execution_count": null,
   "metadata": {
    "collapsed": true
   },
   "outputs": [],
   "source": [
    "feature=pd.merge(feature,press2[['description_id','description_text','key_text','key_text_pre']],on='description_id',how='left')"
   ]
  },
  {
   "cell_type": "code",
   "execution_count": null,
   "metadata": {
    "collapsed": true
   },
   "outputs": [],
   "source": [
    "data=pd.merge(feature,press2[['description_id','paper_id','label']],on=['description_id','paper_id'],how='left')#feature#"
   ]
  },
  {
   "cell_type": "code",
   "execution_count": null,
   "metadata": {
    "collapsed": true
   },
   "outputs": [],
   "source": [
    "data['label']=data['label'].fillna(0)"
   ]
  },
  {
   "cell_type": "code",
   "execution_count": null,
   "metadata": {
    "collapsed": true
   },
   "outputs": [],
   "source": [
    "data=data.drop_duplicates(subset=['description_id','paper_id'], keep='first', inplace=False)"
   ]
  },
  {
   "cell_type": "code",
   "execution_count": null,
   "metadata": {
    "collapsed": true
   },
   "outputs": [],
   "source": [
    "data=data.reset_index(drop=True)"
   ]
  },
  {
   "cell_type": "code",
   "execution_count": null,
   "metadata": {
    "collapsed": true
   },
   "outputs": [],
   "source": [
    "data=data.sort_values(by='description_id').reset_index(drop=True)"
   ]
  },
  {
   "cell_type": "code",
   "execution_count": null,
   "metadata": {
    "collapsed": true
   },
   "outputs": [],
   "source": [
    "data_p=data[['description_id','paper_id','description_text','key_text_pre','abstract','abstract_pre','title','keywords','title_pro','journal','year','label']]"
   ]
  },
  {
   "cell_type": "code",
   "execution_count": null,
   "metadata": {
    "collapsed": true
   },
   "outputs": [],
   "source": [
    "data_p['score']=data['score']"
   ]
  },
  {
   "cell_type": "code",
   "execution_count": null,
   "metadata": {
    "collapsed": true
   },
   "outputs": [],
   "source": [
    "data_p.to_csv('train_feature/train2yu_100.csv',index=None)"
   ]
  },
  {
   "cell_type": "code",
   "execution_count": null,
   "metadata": {
    "collapsed": true
   },
   "outputs": [],
   "source": []
  }
 ],
 "metadata": {
  "kernelspec": {
   "display_name": "Python 3",
   "language": "python",
   "name": "python3"
  },
  "language_info": {
   "codemirror_mode": {
    "name": "ipython",
    "version": 3
   },
   "file_extension": ".py",
   "mimetype": "text/x-python",
   "name": "python",
   "nbconvert_exporter": "python",
   "pygments_lexer": "ipython3",
   "version": "3.6.5"
  }
 },
 "nbformat": 4,
 "nbformat_minor": 2
}
